{
 "cells": [
  {
   "cell_type": "markdown",
   "id": "b64dd0b8",
   "metadata": {},
   "source": [
    "## Teste Gria - Salary"
   ]
  },
  {
   "cell_type": "markdown",
   "id": "e635acf4",
   "metadata": {},
   "source": [
    "### Libraries"
   ]
  },
  {
   "cell_type": "code",
   "execution_count": 1,
   "id": "b23f98de",
   "metadata": {},
   "outputs": [],
   "source": [
    "# Data manipulation\n",
    "import pandas as pd\n",
    "\n",
    "# Vectorization\n",
    "from sklearn.feature_extraction.text import TfidfVectorizer\n",
    "from sklearn.feature_extraction import DictVectorizer\n",
    "from scipy.sparse import hstack\n",
    "\n",
    "# Model\n",
    "from sklearn.linear_model import Ridge\n",
    "from sklearn.linear_model import LogisticRegression\n",
    "\n",
    "# Accuracy\n",
    "from sklearn.metrics import accuracy_score\n",
    "from sklearn.metrics import mean_absolute_error\n",
    "\n"
   ]
  },
  {
   "cell_type": "markdown",
   "id": "3a2561d8",
   "metadata": {},
   "source": [
    "### Data Loader"
   ]
  },
  {
   "cell_type": "code",
   "execution_count": 2,
   "id": "9c64a430",
   "metadata": {},
   "outputs": [],
   "source": [
    "train = pd.read_csv(\"/home/ives/Desktop/Gria /Data/Train_rev1.csv\")\n",
    "test = pd.read_csv(\"/home/ives/Desktop/Gria /Data/Test_rev1.csv\")\n",
    "rand = pd.read_csv(\"/home/ives/Desktop/Gria /Data/random_forest_benchmark_test_rev1.csv\")"
   ]
  },
  {
   "cell_type": "markdown",
   "id": "8ee954df",
   "metadata": {},
   "source": [
    "### Data Exploratory"
   ]
  },
  {
   "cell_type": "code",
   "execution_count": null,
   "id": "44486952",
   "metadata": {},
   "outputs": [],
   "source": [
    "ContractType\tContractTime\tCompany\tCategory"
   ]
  },
  {
   "cell_type": "code",
   "execution_count": null,
   "id": "230af659",
   "metadata": {},
   "outputs": [],
   "source": [
    "Title\t"
   ]
  },
  {
   "cell_type": "markdown",
   "id": "53a83eac",
   "metadata": {},
   "source": [
    "### Data preprocessing:"
   ]
  },
  {
   "cell_type": "markdown",
   "id": "82d0d4bd",
   "metadata": {},
   "source": [
    "#### MIssing Values"
   ]
  },
  {
   "cell_type": "code",
   "execution_count": 3,
   "id": "001220c8",
   "metadata": {},
   "outputs": [],
   "source": [
    "train.Title.fillna(train.Title.mode()[0], inplace= True)\n",
    "train.ContractType.fillna(train.ContractType.mode()[0],inplace=True)\n",
    "train.ContractTime.fillna(train.ContractTime.mode()[0],inplace=True)\n",
    "train.Company.fillna(train.Company.mode()[0],inplace=True)\n",
    "train.SourceName.fillna(train.SourceName.mode()[0],inplace=True)"
   ]
  },
  {
   "cell_type": "markdown",
   "id": "db2c387a",
   "metadata": {},
   "source": [
    "#### Normalize"
   ]
  },
  {
   "cell_type": "code",
   "execution_count": null,
   "id": "ca75c188",
   "metadata": {},
   "outputs": [],
   "source": [
    "train['FullDescription'].replace('[^a-zA-Z0-9]', ' ', regex = True)\n",
    "\n"
   ]
  },
  {
   "cell_type": "code",
   "execution_count": null,
   "id": "22db0575",
   "metadata": {},
   "outputs": [],
   "source": [
    "train.columns = train.columns.str.replace('[#,@,&,****,]', '')\n"
   ]
  },
  {
   "cell_type": "code",
   "execution_count": null,
   "id": "705a9af9",
   "metadata": {},
   "outputs": [],
   "source": [
    "train[\"Title\"] = train[\"Title\"].str.lower()\n",
    "train[\"FullDescription\"]= train[\"FullDescription\"].str.lower()\n",
    "train[\"LocationRaw\"]= train[\"LocationRaw\"].str.lower()\n",
    "train[\"LocationNormalized\"]= train[\"LocationNormalized\"].str.lower()\n",
    "train[\"Company\"]= train[\"Company\"].str.lower()\n",
    "train[\"Category\"]= train[\"Category\"].str.lower()"
   ]
  },
  {
   "cell_type": "code",
   "execution_count": 5,
   "id": "c27f2364",
   "metadata": {},
   "outputs": [],
   "source": [
    "def  normalizer(doc):\n",
    "    dat = [\"Title\",\"FullDescription\",\"LocationRaw\",\"LocationNormalized\",\"Company\",\"Category\"]\n",
    "    for i in dat:\n",
    "        doc[i] = doc[i].str.lower()\n",
    "        doc[i] = doc[i].str.replace('[#,@,&,****,]', '')\n",
    "    doc['FullDescription'].replace('[^a-zA-Z0-9]', ' ', regex = True)"
   ]
  },
  {
   "cell_type": "code",
   "execution_count": 6,
   "id": "fe3c1a24",
   "metadata": {},
   "outputs": [
    {
     "name": "stderr",
     "output_type": "stream",
     "text": [
      "<ipython-input-5-503a95840812>:5: FutureWarning: The default value of regex will change from True to False in a future version.\n",
      "  doc[i] = doc[i].str.replace('[#,@,&,****,]', '')\n"
     ]
    }
   ],
   "source": [
    "normalizer(train)"
   ]
  },
  {
   "cell_type": "code",
   "execution_count": 7,
   "id": "0fb25c8a",
   "metadata": {},
   "outputs": [
    {
     "data": {
      "text/html": [
       "<div>\n",
       "<style scoped>\n",
       "    .dataframe tbody tr th:only-of-type {\n",
       "        vertical-align: middle;\n",
       "    }\n",
       "\n",
       "    .dataframe tbody tr th {\n",
       "        vertical-align: top;\n",
       "    }\n",
       "\n",
       "    .dataframe thead th {\n",
       "        text-align: right;\n",
       "    }\n",
       "</style>\n",
       "<table border=\"1\" class=\"dataframe\">\n",
       "  <thead>\n",
       "    <tr style=\"text-align: right;\">\n",
       "      <th></th>\n",
       "      <th>Id</th>\n",
       "      <th>Title</th>\n",
       "      <th>FullDescription</th>\n",
       "      <th>LocationRaw</th>\n",
       "      <th>LocationNormalized</th>\n",
       "      <th>ContractType</th>\n",
       "      <th>ContractTime</th>\n",
       "      <th>Company</th>\n",
       "      <th>Category</th>\n",
       "      <th>SalaryRaw</th>\n",
       "      <th>SalaryNormalized</th>\n",
       "      <th>SourceName</th>\n",
       "    </tr>\n",
       "  </thead>\n",
       "  <tbody>\n",
       "    <tr>\n",
       "      <th>0</th>\n",
       "      <td>12612628</td>\n",
       "      <td>engineering systems analyst</td>\n",
       "      <td>engineering systems analyst dorking surrey sal...</td>\n",
       "      <td>dorking surrey surrey</td>\n",
       "      <td>dorking</td>\n",
       "      <td>full_time</td>\n",
       "      <td>permanent</td>\n",
       "      <td>gregory martin international</td>\n",
       "      <td>engineering jobs</td>\n",
       "      <td>20000 - 30000/annum 20-30K</td>\n",
       "      <td>25000</td>\n",
       "      <td>cv-library.co.uk</td>\n",
       "    </tr>\n",
       "    <tr>\n",
       "      <th>1</th>\n",
       "      <td>12612830</td>\n",
       "      <td>stress engineer glasgow</td>\n",
       "      <td>stress engineer glasgow salary  to  we re curr...</td>\n",
       "      <td>glasgow scotland scotland</td>\n",
       "      <td>glasgow</td>\n",
       "      <td>full_time</td>\n",
       "      <td>permanent</td>\n",
       "      <td>gregory martin international</td>\n",
       "      <td>engineering jobs</td>\n",
       "      <td>25000 - 35000/annum 25-35K</td>\n",
       "      <td>30000</td>\n",
       "      <td>cv-library.co.uk</td>\n",
       "    </tr>\n",
       "    <tr>\n",
       "      <th>2</th>\n",
       "      <td>12612844</td>\n",
       "      <td>modelling and simulation analyst</td>\n",
       "      <td>mathematical modeller / simulation analyst / o...</td>\n",
       "      <td>hampshire south east south east</td>\n",
       "      <td>hampshire</td>\n",
       "      <td>full_time</td>\n",
       "      <td>permanent</td>\n",
       "      <td>gregory martin international</td>\n",
       "      <td>engineering jobs</td>\n",
       "      <td>20000 - 40000/annum 20-40K</td>\n",
       "      <td>30000</td>\n",
       "      <td>cv-library.co.uk</td>\n",
       "    </tr>\n",
       "    <tr>\n",
       "      <th>3</th>\n",
       "      <td>12613049</td>\n",
       "      <td>engineering systems analyst / mathematical mod...</td>\n",
       "      <td>engineering systems analyst / mathematical mod...</td>\n",
       "      <td>surrey south east south east</td>\n",
       "      <td>surrey</td>\n",
       "      <td>full_time</td>\n",
       "      <td>permanent</td>\n",
       "      <td>gregory martin international</td>\n",
       "      <td>engineering jobs</td>\n",
       "      <td>25000 - 30000/annum 25K-30K negotiable</td>\n",
       "      <td>27500</td>\n",
       "      <td>cv-library.co.uk</td>\n",
       "    </tr>\n",
       "    <tr>\n",
       "      <th>4</th>\n",
       "      <td>12613647</td>\n",
       "      <td>pioneer miser engineering systems analyst</td>\n",
       "      <td>pioneer miser  engineering systems analyst dor...</td>\n",
       "      <td>surrey south east south east</td>\n",
       "      <td>surrey</td>\n",
       "      <td>full_time</td>\n",
       "      <td>permanent</td>\n",
       "      <td>gregory martin international</td>\n",
       "      <td>engineering jobs</td>\n",
       "      <td>20000 - 30000/annum 20-30K</td>\n",
       "      <td>25000</td>\n",
       "      <td>cv-library.co.uk</td>\n",
       "    </tr>\n",
       "    <tr>\n",
       "      <th>...</th>\n",
       "      <td>...</td>\n",
       "      <td>...</td>\n",
       "      <td>...</td>\n",
       "      <td>...</td>\n",
       "      <td>...</td>\n",
       "      <td>...</td>\n",
       "      <td>...</td>\n",
       "      <td>...</td>\n",
       "      <td>...</td>\n",
       "      <td>...</td>\n",
       "      <td>...</td>\n",
       "      <td>...</td>\n",
       "    </tr>\n",
       "    <tr>\n",
       "      <th>244763</th>\n",
       "      <td>72705211</td>\n",
       "      <td>teacher of science</td>\n",
       "      <td>position: qualified teacher subject/specialism...</td>\n",
       "      <td>swindon</td>\n",
       "      <td>swindon</td>\n",
       "      <td>full_time</td>\n",
       "      <td>contract</td>\n",
       "      <td>ukstaffsearch</td>\n",
       "      <td>teaching jobs</td>\n",
       "      <td>450 - 500 per week</td>\n",
       "      <td>22800</td>\n",
       "      <td>hays.co.uk</td>\n",
       "    </tr>\n",
       "    <tr>\n",
       "      <th>244764</th>\n",
       "      <td>72705212</td>\n",
       "      <td>teacher of business studies and ict</td>\n",
       "      <td>position: qualified teacher or nqt subject/spe...</td>\n",
       "      <td>swindon</td>\n",
       "      <td>swindon</td>\n",
       "      <td>full_time</td>\n",
       "      <td>contract</td>\n",
       "      <td>ukstaffsearch</td>\n",
       "      <td>teaching jobs</td>\n",
       "      <td>450 - 500 per week</td>\n",
       "      <td>22800</td>\n",
       "      <td>hays.co.uk</td>\n",
       "    </tr>\n",
       "    <tr>\n",
       "      <th>244765</th>\n",
       "      <td>72705213</td>\n",
       "      <td>english teacher</td>\n",
       "      <td>position: qualified teacher subject/specialism...</td>\n",
       "      <td>swindon</td>\n",
       "      <td>swindon</td>\n",
       "      <td>full_time</td>\n",
       "      <td>contract</td>\n",
       "      <td>ukstaffsearch</td>\n",
       "      <td>teaching jobs</td>\n",
       "      <td>450 - 500 per week</td>\n",
       "      <td>22800</td>\n",
       "      <td>hays.co.uk</td>\n",
       "    </tr>\n",
       "    <tr>\n",
       "      <th>244766</th>\n",
       "      <td>72705216</td>\n",
       "      <td>supply teachers</td>\n",
       "      <td>position: qualified teacher subject/specialism...</td>\n",
       "      <td>wiltshire</td>\n",
       "      <td>wiltshire</td>\n",
       "      <td>full_time</td>\n",
       "      <td>contract</td>\n",
       "      <td>ukstaffsearch</td>\n",
       "      <td>teaching jobs</td>\n",
       "      <td>450 to 500 per week</td>\n",
       "      <td>22800</td>\n",
       "      <td>hays.co.uk</td>\n",
       "    </tr>\n",
       "    <tr>\n",
       "      <th>244767</th>\n",
       "      <td>72705235</td>\n",
       "      <td>accountant</td>\n",
       "      <td>this entrepreneurial and growing private equit...</td>\n",
       "      <td>hitchin</td>\n",
       "      <td>hitchin</td>\n",
       "      <td>full_time</td>\n",
       "      <td>permanent</td>\n",
       "      <td>ukstaffsearch</td>\n",
       "      <td>teaching jobs</td>\n",
       "      <td>40-45,000</td>\n",
       "      <td>42500</td>\n",
       "      <td>hays.co.uk</td>\n",
       "    </tr>\n",
       "  </tbody>\n",
       "</table>\n",
       "<p>244768 rows × 12 columns</p>\n",
       "</div>"
      ],
      "text/plain": [
       "              Id                                              Title  \\\n",
       "0       12612628                        engineering systems analyst   \n",
       "1       12612830                            stress engineer glasgow   \n",
       "2       12612844                   modelling and simulation analyst   \n",
       "3       12613049  engineering systems analyst / mathematical mod...   \n",
       "4       12613647          pioneer miser engineering systems analyst   \n",
       "...          ...                                                ...   \n",
       "244763  72705211                                 teacher of science   \n",
       "244764  72705212                teacher of business studies and ict   \n",
       "244765  72705213                                    english teacher   \n",
       "244766  72705216                                    supply teachers   \n",
       "244767  72705235                                         accountant   \n",
       "\n",
       "                                          FullDescription  \\\n",
       "0       engineering systems analyst dorking surrey sal...   \n",
       "1       stress engineer glasgow salary  to  we re curr...   \n",
       "2       mathematical modeller / simulation analyst / o...   \n",
       "3       engineering systems analyst / mathematical mod...   \n",
       "4       pioneer miser  engineering systems analyst dor...   \n",
       "...                                                   ...   \n",
       "244763  position: qualified teacher subject/specialism...   \n",
       "244764  position: qualified teacher or nqt subject/spe...   \n",
       "244765  position: qualified teacher subject/specialism...   \n",
       "244766  position: qualified teacher subject/specialism...   \n",
       "244767  this entrepreneurial and growing private equit...   \n",
       "\n",
       "                            LocationRaw LocationNormalized ContractType  \\\n",
       "0                 dorking surrey surrey            dorking    full_time   \n",
       "1             glasgow scotland scotland            glasgow    full_time   \n",
       "2       hampshire south east south east          hampshire    full_time   \n",
       "3          surrey south east south east             surrey    full_time   \n",
       "4          surrey south east south east             surrey    full_time   \n",
       "...                                 ...                ...          ...   \n",
       "244763                          swindon            swindon    full_time   \n",
       "244764                          swindon            swindon    full_time   \n",
       "244765                          swindon            swindon    full_time   \n",
       "244766                        wiltshire          wiltshire    full_time   \n",
       "244767                          hitchin            hitchin    full_time   \n",
       "\n",
       "       ContractTime                       Company          Category  \\\n",
       "0         permanent  gregory martin international  engineering jobs   \n",
       "1         permanent  gregory martin international  engineering jobs   \n",
       "2         permanent  gregory martin international  engineering jobs   \n",
       "3         permanent  gregory martin international  engineering jobs   \n",
       "4         permanent  gregory martin international  engineering jobs   \n",
       "...             ...                           ...               ...   \n",
       "244763     contract                 ukstaffsearch     teaching jobs   \n",
       "244764     contract                 ukstaffsearch     teaching jobs   \n",
       "244765     contract                 ukstaffsearch     teaching jobs   \n",
       "244766     contract                 ukstaffsearch     teaching jobs   \n",
       "244767    permanent                 ukstaffsearch     teaching jobs   \n",
       "\n",
       "                                     SalaryRaw  SalaryNormalized  \\\n",
       "0                   20000 - 30000/annum 20-30K             25000   \n",
       "1                   25000 - 35000/annum 25-35K             30000   \n",
       "2                   20000 - 40000/annum 20-40K             30000   \n",
       "3       25000 - 30000/annum 25K-30K negotiable             27500   \n",
       "4                   20000 - 30000/annum 20-30K             25000   \n",
       "...                                        ...               ...   \n",
       "244763                      450 - 500 per week             22800   \n",
       "244764                      450 - 500 per week             22800   \n",
       "244765                      450 - 500 per week             22800   \n",
       "244766                     450 to 500 per week             22800   \n",
       "244767                               40-45,000             42500   \n",
       "\n",
       "              SourceName  \n",
       "0       cv-library.co.uk  \n",
       "1       cv-library.co.uk  \n",
       "2       cv-library.co.uk  \n",
       "3       cv-library.co.uk  \n",
       "4       cv-library.co.uk  \n",
       "...                  ...  \n",
       "244763        hays.co.uk  \n",
       "244764        hays.co.uk  \n",
       "244765        hays.co.uk  \n",
       "244766        hays.co.uk  \n",
       "244767        hays.co.uk  \n",
       "\n",
       "[244768 rows x 12 columns]"
      ]
     },
     "execution_count": 7,
     "metadata": {},
     "output_type": "execute_result"
    }
   ],
   "source": [
    "train"
   ]
  },
  {
   "cell_type": "markdown",
   "id": "ef686f1d",
   "metadata": {},
   "source": [
    "## Vectorization:"
   ]
  },
  {
   "cell_type": "markdown",
   "id": "99d111be",
   "metadata": {},
   "source": [
    "**Vetorização da coluna FullDescription**"
   ]
  },
  {
   "cell_type": "code",
   "execution_count": 8,
   "id": "fe309482",
   "metadata": {},
   "outputs": [],
   "source": [
    "vectorizer = TfidfVectorizer(min_df=5)\n",
    "X_tfidf = vectorizer.fit_transform(train['FullDescription']) "
   ]
  },
  {
   "cell_type": "code",
   "execution_count": 9,
   "id": "07ff2186",
   "metadata": {},
   "outputs": [
    {
     "data": {
      "text/plain": [
       "<244768x46178 sparse matrix of type '<class 'numpy.float64'>'\n",
       "\twith 34338764 stored elements in Compressed Sparse Row format>"
      ]
     },
     "execution_count": 9,
     "metadata": {},
     "output_type": "execute_result"
    }
   ],
   "source": [
    "X_tfidf "
   ]
  },
  {
   "cell_type": "markdown",
   "id": "edc6ead8",
   "metadata": {},
   "source": [
    "**Vetorização das demais variáveis**"
   ]
  },
  {
   "cell_type": "code",
   "execution_count": 10,
   "id": "6a7a742d",
   "metadata": {},
   "outputs": [],
   "source": [
    "enc = DictVectorizer()\n",
    "X_train_categ = enc.fit_transform(train[['Title','LocationRaw','LocationNormalized','ContractType', 'ContractTime','Company','Category','SourceName']].to_dict('records'))\n",
    "x_train_vec = hstack([X_tfidf,X_train_categ])\n"
   ]
  },
  {
   "cell_type": "markdown",
   "id": "cb14e8f4",
   "metadata": {},
   "source": [
    "### Model"
   ]
  },
  {
   "cell_type": "code",
   "execution_count": 11,
   "id": "6d8a6215",
   "metadata": {},
   "outputs": [],
   "source": [
    "y_true = rand[\"SalaryNormalized\"]"
   ]
  },
  {
   "cell_type": "markdown",
   "id": "c95a9124",
   "metadata": {},
   "source": [
    "### Dados de Teste"
   ]
  },
  {
   "cell_type": "code",
   "execution_count": 15,
   "id": "62b5ade0",
   "metadata": {},
   "outputs": [],
   "source": [
    "test.Title.fillna(test.Title.mode()[0], inplace= True)\n",
    "test.ContractType.fillna(test.ContractType.mode()[0],inplace=True)\n",
    "test.ContractTime.fillna(test.ContractTime.mode()[0],inplace=True)\n",
    "test.Company.fillna(test.Company.mode()[0],inplace=True)\n",
    "test.SourceName.fillna(test.SourceName.mode()[0],inplace=True)"
   ]
  },
  {
   "cell_type": "code",
   "execution_count": 17,
   "id": "aa6f4db7",
   "metadata": {},
   "outputs": [
    {
     "name": "stderr",
     "output_type": "stream",
     "text": [
      "<ipython-input-5-503a95840812>:5: FutureWarning: The default value of regex will change from True to False in a future version.\n",
      "  doc[i] = doc[i].str.replace('[#,@,&,****,]', '')\n"
     ]
    }
   ],
   "source": [
    "normalizer(test)"
   ]
  },
  {
   "cell_type": "code",
   "execution_count": 20,
   "id": "9c3a2444",
   "metadata": {},
   "outputs": [],
   "source": [
    "X_tfidf_test = vectorizer.transform(test['FullDescription']) "
   ]
  },
  {
   "cell_type": "code",
   "execution_count": 21,
   "id": "d4cc4e18",
   "metadata": {},
   "outputs": [],
   "source": [
    "X_test_categ = enc.transform(test[['Title','LocationRaw','LocationNormalized','ContractType', 'ContractTime','Company','Category','SourceName']].to_dict('records'))\n",
    "x_test = hstack([X_tfidf_test,X_test_categ])"
   ]
  },
  {
   "cell_type": "markdown",
   "id": "29714eed",
   "metadata": {},
   "source": [
    "### Ridge\n"
   ]
  },
  {
   "cell_type": "code",
   "execution_count": 12,
   "id": "bc45cc20",
   "metadata": {},
   "outputs": [
    {
     "data": {
      "text/plain": [
       "Ridge(random_state=241)"
      ]
     },
     "execution_count": 12,
     "metadata": {},
     "output_type": "execute_result"
    }
   ],
   "source": [
    "# Classifier: \n",
    "clf = Ridge(alpha=1.0, random_state=241)\n",
    "\n",
    "# The target value (algorithm has to predict) is SalaryNormalized\n",
    "y_train = train['SalaryNormalized']\n",
    "\n",
    "# train model on data\n",
    "clf.fit(x_train_vec, y_train) \n"
   ]
  },
  {
   "cell_type": "code",
   "execution_count": 22,
   "id": "90d9673b",
   "metadata": {},
   "outputs": [],
   "source": [
    "y_pred_rid = clf.predict(x_test)\n"
   ]
  },
  {
   "cell_type": "code",
   "execution_count": 23,
   "id": "3d479bb8",
   "metadata": {},
   "outputs": [
    {
     "data": {
      "text/plain": [
       "array([23075.22301196, 29685.23139397, 31307.25653375, ...,\n",
       "       29846.64158526, 12947.43674796, 29648.06670299])"
      ]
     },
     "execution_count": 23,
     "metadata": {},
     "output_type": "execute_result"
    }
   ],
   "source": [
    "y_pred_rid"
   ]
  },
  {
   "cell_type": "markdown",
   "id": "f6250264",
   "metadata": {},
   "source": [
    "#### MAE Ridge "
   ]
  },
  {
   "cell_type": "code",
   "execution_count": 24,
   "id": "85b01907",
   "metadata": {},
   "outputs": [
    {
     "data": {
      "text/plain": [
       "6519.81645616773"
      ]
     },
     "execution_count": 24,
     "metadata": {},
     "output_type": "execute_result"
    }
   ],
   "source": [
    "# MAE Ridge\n",
    "from sklearn.metrics import mean_absolute_error\n",
    "#mean_absolute_error(y_true, y_pred)\n",
    "mae_ridg=mean_absolute_error(y_true, y_pred_rid)\n",
    "mae_ridg"
   ]
  },
  {
   "cell_type": "markdown",
   "id": "fb6df978",
   "metadata": {},
   "source": [
    "### Naive Bayes"
   ]
  },
  {
   "cell_type": "code",
   "execution_count": 25,
   "id": "fac74910",
   "metadata": {},
   "outputs": [],
   "source": [
    "from sklearn.naive_bayes import MultinomialNB\n",
    "\n",
    "# 2. instantiate a Multinomial Naive Bayes model\n",
    "nb = MultinomialNB()"
   ]
  },
  {
   "cell_type": "code",
   "execution_count": 26,
   "id": "6d2a3f94",
   "metadata": {},
   "outputs": [
    {
     "ename": "MemoryError",
     "evalue": "Unable to allocate 15.4 GiB for an array with shape (244768, 8454) and data type int64",
     "output_type": "error",
     "traceback": [
      "\u001b[0;31m---------------------------------------------------------------------------\u001b[0m",
      "\u001b[0;31mMemoryError\u001b[0m                               Traceback (most recent call last)",
      "\u001b[0;32m<ipython-input-26-3f38194b7f21>\u001b[0m in \u001b[0;36m<module>\u001b[0;34m\u001b[0m\n\u001b[0;32m----> 1\u001b[0;31m \u001b[0mnb\u001b[0m\u001b[0;34m.\u001b[0m\u001b[0mfit\u001b[0m\u001b[0;34m(\u001b[0m\u001b[0mx_train_vec\u001b[0m\u001b[0;34m,\u001b[0m \u001b[0my_train\u001b[0m\u001b[0;34m)\u001b[0m\u001b[0;34m\u001b[0m\u001b[0;34m\u001b[0m\u001b[0m\n\u001b[0m",
      "\u001b[0;32m~/anaconda3/lib/python3.8/site-packages/sklearn/naive_bayes.py\u001b[0m in \u001b[0;36mfit\u001b[0;34m(self, X, y, sample_weight)\u001b[0m\n\u001b[1;32m    615\u001b[0m \u001b[0;34m\u001b[0m\u001b[0m\n\u001b[1;32m    616\u001b[0m         \u001b[0mlabelbin\u001b[0m \u001b[0;34m=\u001b[0m \u001b[0mLabelBinarizer\u001b[0m\u001b[0;34m(\u001b[0m\u001b[0;34m)\u001b[0m\u001b[0;34m\u001b[0m\u001b[0;34m\u001b[0m\u001b[0m\n\u001b[0;32m--> 617\u001b[0;31m         \u001b[0mY\u001b[0m \u001b[0;34m=\u001b[0m \u001b[0mlabelbin\u001b[0m\u001b[0;34m.\u001b[0m\u001b[0mfit_transform\u001b[0m\u001b[0;34m(\u001b[0m\u001b[0my\u001b[0m\u001b[0;34m)\u001b[0m\u001b[0;34m\u001b[0m\u001b[0;34m\u001b[0m\u001b[0m\n\u001b[0m\u001b[1;32m    618\u001b[0m         \u001b[0mself\u001b[0m\u001b[0;34m.\u001b[0m\u001b[0mclasses_\u001b[0m \u001b[0;34m=\u001b[0m \u001b[0mlabelbin\u001b[0m\u001b[0;34m.\u001b[0m\u001b[0mclasses_\u001b[0m\u001b[0;34m\u001b[0m\u001b[0;34m\u001b[0m\u001b[0m\n\u001b[1;32m    619\u001b[0m         \u001b[0;32mif\u001b[0m \u001b[0mY\u001b[0m\u001b[0;34m.\u001b[0m\u001b[0mshape\u001b[0m\u001b[0;34m[\u001b[0m\u001b[0;36m1\u001b[0m\u001b[0;34m]\u001b[0m \u001b[0;34m==\u001b[0m \u001b[0;36m1\u001b[0m\u001b[0;34m:\u001b[0m\u001b[0;34m\u001b[0m\u001b[0;34m\u001b[0m\u001b[0m\n",
      "\u001b[0;32m~/anaconda3/lib/python3.8/site-packages/sklearn/preprocessing/_label.py\u001b[0m in \u001b[0;36mfit_transform\u001b[0;34m(self, y)\u001b[0m\n\u001b[1;32m    319\u001b[0m             \u001b[0mwill\u001b[0m \u001b[0mbe\u001b[0m \u001b[0mof\u001b[0m \u001b[0mCSR\u001b[0m \u001b[0mformat\u001b[0m\u001b[0;34m.\u001b[0m\u001b[0;34m\u001b[0m\u001b[0;34m\u001b[0m\u001b[0m\n\u001b[1;32m    320\u001b[0m         \"\"\"\n\u001b[0;32m--> 321\u001b[0;31m         \u001b[0;32mreturn\u001b[0m \u001b[0mself\u001b[0m\u001b[0;34m.\u001b[0m\u001b[0mfit\u001b[0m\u001b[0;34m(\u001b[0m\u001b[0my\u001b[0m\u001b[0;34m)\u001b[0m\u001b[0;34m.\u001b[0m\u001b[0mtransform\u001b[0m\u001b[0;34m(\u001b[0m\u001b[0my\u001b[0m\u001b[0;34m)\u001b[0m\u001b[0;34m\u001b[0m\u001b[0;34m\u001b[0m\u001b[0m\n\u001b[0m\u001b[1;32m    322\u001b[0m \u001b[0;34m\u001b[0m\u001b[0m\n\u001b[1;32m    323\u001b[0m     \u001b[0;32mdef\u001b[0m \u001b[0mtransform\u001b[0m\u001b[0;34m(\u001b[0m\u001b[0mself\u001b[0m\u001b[0;34m,\u001b[0m \u001b[0my\u001b[0m\u001b[0;34m)\u001b[0m\u001b[0;34m:\u001b[0m\u001b[0;34m\u001b[0m\u001b[0;34m\u001b[0m\u001b[0m\n",
      "\u001b[0;32m~/anaconda3/lib/python3.8/site-packages/sklearn/preprocessing/_label.py\u001b[0m in \u001b[0;36mtransform\u001b[0;34m(self, y)\u001b[0m\n\u001b[1;32m    348\u001b[0m                              \" input.\")\n\u001b[1;32m    349\u001b[0m \u001b[0;34m\u001b[0m\u001b[0m\n\u001b[0;32m--> 350\u001b[0;31m         return label_binarize(y, classes=self.classes_,\n\u001b[0m\u001b[1;32m    351\u001b[0m                               \u001b[0mpos_label\u001b[0m\u001b[0;34m=\u001b[0m\u001b[0mself\u001b[0m\u001b[0;34m.\u001b[0m\u001b[0mpos_label\u001b[0m\u001b[0;34m,\u001b[0m\u001b[0;34m\u001b[0m\u001b[0;34m\u001b[0m\u001b[0m\n\u001b[1;32m    352\u001b[0m                               \u001b[0mneg_label\u001b[0m\u001b[0;34m=\u001b[0m\u001b[0mself\u001b[0m\u001b[0;34m.\u001b[0m\u001b[0mneg_label\u001b[0m\u001b[0;34m,\u001b[0m\u001b[0;34m\u001b[0m\u001b[0;34m\u001b[0m\u001b[0m\n",
      "\u001b[0;32m~/anaconda3/lib/python3.8/site-packages/sklearn/utils/validation.py\u001b[0m in \u001b[0;36minner_f\u001b[0;34m(*args, **kwargs)\u001b[0m\n\u001b[1;32m     61\u001b[0m             \u001b[0mextra_args\u001b[0m \u001b[0;34m=\u001b[0m \u001b[0mlen\u001b[0m\u001b[0;34m(\u001b[0m\u001b[0margs\u001b[0m\u001b[0;34m)\u001b[0m \u001b[0;34m-\u001b[0m \u001b[0mlen\u001b[0m\u001b[0;34m(\u001b[0m\u001b[0mall_args\u001b[0m\u001b[0;34m)\u001b[0m\u001b[0;34m\u001b[0m\u001b[0;34m\u001b[0m\u001b[0m\n\u001b[1;32m     62\u001b[0m             \u001b[0;32mif\u001b[0m \u001b[0mextra_args\u001b[0m \u001b[0;34m<=\u001b[0m \u001b[0;36m0\u001b[0m\u001b[0;34m:\u001b[0m\u001b[0;34m\u001b[0m\u001b[0;34m\u001b[0m\u001b[0m\n\u001b[0;32m---> 63\u001b[0;31m                 \u001b[0;32mreturn\u001b[0m \u001b[0mf\u001b[0m\u001b[0;34m(\u001b[0m\u001b[0;34m*\u001b[0m\u001b[0margs\u001b[0m\u001b[0;34m,\u001b[0m \u001b[0;34m**\u001b[0m\u001b[0mkwargs\u001b[0m\u001b[0;34m)\u001b[0m\u001b[0;34m\u001b[0m\u001b[0;34m\u001b[0m\u001b[0m\n\u001b[0m\u001b[1;32m     64\u001b[0m \u001b[0;34m\u001b[0m\u001b[0m\n\u001b[1;32m     65\u001b[0m             \u001b[0;31m# extra_args > 0\u001b[0m\u001b[0;34m\u001b[0m\u001b[0;34m\u001b[0m\u001b[0;34m\u001b[0m\u001b[0m\n",
      "\u001b[0;32m~/anaconda3/lib/python3.8/site-packages/sklearn/preprocessing/_label.py\u001b[0m in \u001b[0;36mlabel_binarize\u001b[0;34m(y, classes, neg_label, pos_label, sparse_output)\u001b[0m\n\u001b[1;32m    545\u001b[0m \u001b[0;34m\u001b[0m\u001b[0m\n\u001b[1;32m    546\u001b[0m     \u001b[0;32mif\u001b[0m \u001b[0;32mnot\u001b[0m \u001b[0msparse_output\u001b[0m\u001b[0;34m:\u001b[0m\u001b[0;34m\u001b[0m\u001b[0;34m\u001b[0m\u001b[0m\n\u001b[0;32m--> 547\u001b[0;31m         \u001b[0mY\u001b[0m \u001b[0;34m=\u001b[0m \u001b[0mY\u001b[0m\u001b[0;34m.\u001b[0m\u001b[0mtoarray\u001b[0m\u001b[0;34m(\u001b[0m\u001b[0;34m)\u001b[0m\u001b[0;34m\u001b[0m\u001b[0;34m\u001b[0m\u001b[0m\n\u001b[0m\u001b[1;32m    548\u001b[0m         \u001b[0mY\u001b[0m \u001b[0;34m=\u001b[0m \u001b[0mY\u001b[0m\u001b[0;34m.\u001b[0m\u001b[0mastype\u001b[0m\u001b[0;34m(\u001b[0m\u001b[0mint\u001b[0m\u001b[0;34m,\u001b[0m \u001b[0mcopy\u001b[0m\u001b[0;34m=\u001b[0m\u001b[0;32mFalse\u001b[0m\u001b[0;34m)\u001b[0m\u001b[0;34m\u001b[0m\u001b[0;34m\u001b[0m\u001b[0m\n\u001b[1;32m    549\u001b[0m \u001b[0;34m\u001b[0m\u001b[0m\n",
      "\u001b[0;32m~/anaconda3/lib/python3.8/site-packages/scipy/sparse/compressed.py\u001b[0m in \u001b[0;36mtoarray\u001b[0;34m(self, order, out)\u001b[0m\n\u001b[1;32m   1029\u001b[0m         \u001b[0;32mif\u001b[0m \u001b[0mout\u001b[0m \u001b[0;32mis\u001b[0m \u001b[0;32mNone\u001b[0m \u001b[0;32mand\u001b[0m \u001b[0morder\u001b[0m \u001b[0;32mis\u001b[0m \u001b[0;32mNone\u001b[0m\u001b[0;34m:\u001b[0m\u001b[0;34m\u001b[0m\u001b[0;34m\u001b[0m\u001b[0m\n\u001b[1;32m   1030\u001b[0m             \u001b[0morder\u001b[0m \u001b[0;34m=\u001b[0m \u001b[0mself\u001b[0m\u001b[0;34m.\u001b[0m\u001b[0m_swap\u001b[0m\u001b[0;34m(\u001b[0m\u001b[0;34m'cf'\u001b[0m\u001b[0;34m)\u001b[0m\u001b[0;34m[\u001b[0m\u001b[0;36m0\u001b[0m\u001b[0;34m]\u001b[0m\u001b[0;34m\u001b[0m\u001b[0;34m\u001b[0m\u001b[0m\n\u001b[0;32m-> 1031\u001b[0;31m         \u001b[0mout\u001b[0m \u001b[0;34m=\u001b[0m \u001b[0mself\u001b[0m\u001b[0;34m.\u001b[0m\u001b[0m_process_toarray_args\u001b[0m\u001b[0;34m(\u001b[0m\u001b[0morder\u001b[0m\u001b[0;34m,\u001b[0m \u001b[0mout\u001b[0m\u001b[0;34m)\u001b[0m\u001b[0;34m\u001b[0m\u001b[0;34m\u001b[0m\u001b[0m\n\u001b[0m\u001b[1;32m   1032\u001b[0m         \u001b[0;32mif\u001b[0m \u001b[0;32mnot\u001b[0m \u001b[0;34m(\u001b[0m\u001b[0mout\u001b[0m\u001b[0;34m.\u001b[0m\u001b[0mflags\u001b[0m\u001b[0;34m.\u001b[0m\u001b[0mc_contiguous\u001b[0m \u001b[0;32mor\u001b[0m \u001b[0mout\u001b[0m\u001b[0;34m.\u001b[0m\u001b[0mflags\u001b[0m\u001b[0;34m.\u001b[0m\u001b[0mf_contiguous\u001b[0m\u001b[0;34m)\u001b[0m\u001b[0;34m:\u001b[0m\u001b[0;34m\u001b[0m\u001b[0;34m\u001b[0m\u001b[0m\n\u001b[1;32m   1033\u001b[0m             \u001b[0;32mraise\u001b[0m \u001b[0mValueError\u001b[0m\u001b[0;34m(\u001b[0m\u001b[0;34m'Output array must be C or F contiguous'\u001b[0m\u001b[0;34m)\u001b[0m\u001b[0;34m\u001b[0m\u001b[0;34m\u001b[0m\u001b[0m\n",
      "\u001b[0;32m~/anaconda3/lib/python3.8/site-packages/scipy/sparse/base.py\u001b[0m in \u001b[0;36m_process_toarray_args\u001b[0;34m(self, order, out)\u001b[0m\n\u001b[1;32m   1200\u001b[0m             \u001b[0;32mreturn\u001b[0m \u001b[0mout\u001b[0m\u001b[0;34m\u001b[0m\u001b[0;34m\u001b[0m\u001b[0m\n\u001b[1;32m   1201\u001b[0m         \u001b[0;32melse\u001b[0m\u001b[0;34m:\u001b[0m\u001b[0;34m\u001b[0m\u001b[0;34m\u001b[0m\u001b[0m\n\u001b[0;32m-> 1202\u001b[0;31m             \u001b[0;32mreturn\u001b[0m \u001b[0mnp\u001b[0m\u001b[0;34m.\u001b[0m\u001b[0mzeros\u001b[0m\u001b[0;34m(\u001b[0m\u001b[0mself\u001b[0m\u001b[0;34m.\u001b[0m\u001b[0mshape\u001b[0m\u001b[0;34m,\u001b[0m \u001b[0mdtype\u001b[0m\u001b[0;34m=\u001b[0m\u001b[0mself\u001b[0m\u001b[0;34m.\u001b[0m\u001b[0mdtype\u001b[0m\u001b[0;34m,\u001b[0m \u001b[0morder\u001b[0m\u001b[0;34m=\u001b[0m\u001b[0morder\u001b[0m\u001b[0;34m)\u001b[0m\u001b[0;34m\u001b[0m\u001b[0;34m\u001b[0m\u001b[0m\n\u001b[0m\u001b[1;32m   1203\u001b[0m \u001b[0;34m\u001b[0m\u001b[0m\n\u001b[1;32m   1204\u001b[0m \u001b[0;34m\u001b[0m\u001b[0m\n",
      "\u001b[0;31mMemoryError\u001b[0m: Unable to allocate 15.4 GiB for an array with shape (244768, 8454) and data type int64"
     ]
    }
   ],
   "source": [
    "nb.fit(x_train_vec, y_train)"
   ]
  },
  {
   "cell_type": "code",
   "execution_count": null,
   "id": "23f668cc",
   "metadata": {},
   "outputs": [],
   "source": [
    "y_pred_bay = nb.predict(X_test)\n"
   ]
  },
  {
   "cell_type": "code",
   "execution_count": null,
   "id": "b7abfa9e",
   "metadata": {},
   "outputs": [],
   "source": [
    "# MAE Naive\n",
    "from sklearn.metrics import mean_absolute_error\n",
    "\n",
    "#mean_absolute_error(y_true, y_pred)\n",
    "mae_bay=mean_absolute_error(y_true, y_pred_bay)\n",
    "mae_bay"
   ]
  },
  {
   "cell_type": "markdown",
   "id": "ee5c8341",
   "metadata": {},
   "source": [
    "### Ligistic Regression"
   ]
  },
  {
   "cell_type": "code",
   "execution_count": null,
   "id": "23951598",
   "metadata": {},
   "outputs": [],
   "source": [
    "from sklearn.linear_model import LogisticRegression\n",
    "from sklearn.metrics import accuracy_score\n"
   ]
  },
  {
   "cell_type": "code",
   "execution_count": null,
   "id": "cb057f3d",
   "metadata": {},
   "outputs": [],
   "source": [
    "logreg = LogisticRegression(solver='lbfgs')\n",
    "logreg.fit(x_train_vec, y_train)\n"
   ]
  },
  {
   "cell_type": "code",
   "execution_count": null,
   "id": "eb2060c3",
   "metadata": {},
   "outputs": [],
   "source": [
    "y_pred_log = nb.predict(X_test)\n"
   ]
  },
  {
   "cell_type": "code",
   "execution_count": null,
   "id": "59d82be7",
   "metadata": {},
   "outputs": [],
   "source": [
    "# MAE Log\n",
    "from sklearn.metrics import mean_absolute_error\n",
    "\n",
    "#mean_absolute_error(y_true, y_pred)\n",
    "mae_log=mean_absolute_error(y_true, y_pred_log)\n",
    "mae_log"
   ]
  },
  {
   "cell_type": "code",
   "execution_count": 14,
   "id": "fe62e880",
   "metadata": {},
   "outputs": [],
   "source": []
  },
  {
   "cell_type": "markdown",
   "id": "8610d28c",
   "metadata": {},
   "source": [
    "### Pipeline:"
   ]
  },
  {
   "cell_type": "code",
   "execution_count": null,
   "id": "f07cb330",
   "metadata": {},
   "outputs": [],
   "source": [
    "from sklearn.pipeline import Pipeline\n",
    "from sklearn.naive_bayes import MultinomialNB\n",
    "\n",
    "model = Pipeline([\n",
    "    ('normalizer', TextNormalizer()),\n",
    "    ('vectorizer', GensimVectorizer()),\n",
    "    ('bayes', MultinomialNB()),\n",
    "])"
   ]
  },
  {
   "cell_type": "code",
   "execution_count": null,
   "id": "c2f584b9",
   "metadata": {},
   "outputs": [],
   "source": []
  },
  {
   "cell_type": "code",
   "execution_count": null,
   "id": "1aaea9fa",
   "metadata": {},
   "outputs": [],
   "source": []
  }
 ],
 "metadata": {
  "kernelspec": {
   "display_name": "Python 3",
   "language": "python",
   "name": "python3"
  },
  "language_info": {
   "codemirror_mode": {
    "name": "ipython",
    "version": 3
   },
   "file_extension": ".py",
   "mimetype": "text/x-python",
   "name": "python",
   "nbconvert_exporter": "python",
   "pygments_lexer": "ipython3",
   "version": "3.8.5"
  }
 },
 "nbformat": 4,
 "nbformat_minor": 5
}
